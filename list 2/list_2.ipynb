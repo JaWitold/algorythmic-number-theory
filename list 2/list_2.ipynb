{
 "cells": [
  {
   "cell_type": "markdown",
   "id": "1489314a",
   "metadata": {},
   "source": [
    "# Algorithmic Number Theory - List 2\n",
    "##### author: Witold Karaś (254622)"
   ]
  },
  {
   "cell_type": "markdown",
   "id": "c7a5fd00",
   "metadata": {},
   "source": [
    "## Task 1: Binary Extended GCD"
   ]
  },
  {
   "cell_type": "code",
   "execution_count": 1,
   "id": "488b7a44",
   "metadata": {},
   "outputs": [],
   "source": [
    "def binary_extended_gcd(x: int, y: int) -> (int, int, int):\n",
    "    assert x > 0 and isinstance(x, Integer) or isinstance(x, int), \"x must be a positive integer\"\n",
    "    assert y > 0 and isinstance(y, Integer) or isinstance(y, int), \"y must be a positive integer\"\n",
    "    # Step 1: Initialize g to 1\n",
    "    g = 1\n",
    "    \n",
    "    # Step 2: While x and y are both even, do the following: x←x/2, y←y/2, g←2g.\n",
    "    # `is_even` is sage built in function\n",
    "    # @link https://doc.sagemath.org/html/en/reference/misc/sage/misc/functional.html#sage.misc.functional.is_even\n",
    "    while is_even(x) and is_even(y):\n",
    "        x = x // 2\n",
    "        y = y // 2\n",
    "        g = 2 * g\n",
    "    \n",
    "    # Step 3: u←x, v←y, A←1, B←0, C←0, D←1\n",
    "    u, v, A, B, C, D = x, y, 1, 0, 0, 1\n",
    "    \n",
    "    while u != 0:\n",
    "        # Step 4: loop while u is even\n",
    "        while is_even(u):\n",
    "            u = u // 2\n",
    "            if A % 2 == 0 and B % 2 == 0:\n",
    "                A = A // 2\n",
    "                B = B // 2\n",
    "            else:\n",
    "                A = (A + y) // 2\n",
    "                B = (B - x) // 2\n",
    "\n",
    "        # Step 5: loop while v is even\n",
    "        while is_even(v):\n",
    "            v = v // 2\n",
    "            if C % 2 == 0 and D % 2 == 0:\n",
    "                C = C // 2\n",
    "                D = D // 2\n",
    "            else:\n",
    "                C = (C + y) // 2\n",
    "                D = (D - x) // 2\n",
    "\n",
    "        if u >= v:\n",
    "            u, A, B = u - v, A - C, B - D\n",
    "        else:\n",
    "            v, C, D = v - u, C - A, D - B\n",
    "        # Step 7: loop until u = 0\n",
    "\n",
    "    return C, D, g * v    "
   ]
  },
  {
   "cell_type": "code",
   "execution_count": 2,
   "id": "c922ab52",
   "metadata": {},
   "outputs": [
    {
     "name": "stdout",
     "output_type": "stream",
     "text": [
      "-181 * 693 + 206 * 609 = 21\n"
     ]
    }
   ],
   "source": [
    "x = 693\n",
    "y = 609\n",
    "a, b, v = binary_extended_gcd(x, y)\n",
    "print(f\"{a} * {x} + {b} * {y} = {v}\")"
   ]
  },
  {
   "cell_type": "code",
   "execution_count": 3,
   "id": "2b8d65bb",
   "metadata": {},
   "outputs": [
    {
     "name": "stdout",
     "output_type": "stream",
     "text": [
      "Ok, all asserts passed!\n"
     ]
    }
   ],
   "source": [
    "for _ in range(1000):\n",
    "    x, y = int(randint(1, 2 ** 32)), randint(1, 2 ** 32)\n",
    "    p, _, _ = xgcd(x, y)\n",
    "    a, b, v = binary_extended_gcd(x, y)\n",
    "    assert v == p and a * x + b * y == v\n",
    "print(\"Ok, all asserts passed!\")"
   ]
  },
  {
   "cell_type": "markdown",
   "id": "0401072a",
   "metadata": {},
   "source": [
    "## Task 2: Multiplicative Inverse"
   ]
  },
  {
   "cell_type": "code",
   "execution_count": 4,
   "id": "6caadd58",
   "metadata": {},
   "outputs": [],
   "source": [
    "def mul_inv(m: int, a: int) -> int:\n",
    "    assert m > 1 and isinstance(m, Integer) or isinstance(m, int), \"m ∈ N\\\\{0, 1}\"\n",
    "    assert 1 <= a <= m - 1 and isinstance(a, Integer) or isinstance(a, int), \"a ∈ {1, 2, . . . , m−1}\"\n",
    "    assert gcd(a, m) == 1, \"gcd(a, m) must equal 1\"\n",
    "    \n",
    "    u, _, _ = binary_extended_gcd(a, m)\n",
    "    return u % m"
   ]
  },
  {
   "cell_type": "code",
   "execution_count": 5,
   "id": "ab56065c",
   "metadata": {},
   "outputs": [
    {
     "data": {
      "text/plain": [
       "106"
      ]
     },
     "execution_count": 5,
     "metadata": {},
     "output_type": "execute_result"
    }
   ],
   "source": [
    "m = 383\n",
    "a = 271\n",
    "\n",
    "mul_inv(m, a)\n",
    "inverse_mod(a, m)"
   ]
  },
  {
   "cell_type": "code",
   "execution_count": 6,
   "id": "278e36f2",
   "metadata": {},
   "outputs": [
    {
     "name": "stdout",
     "output_type": "stream",
     "text": [
      "Ok, works as expected!\n"
     ]
    }
   ],
   "source": [
    "for _ in range(1000):\n",
    "    m = random_prime(2**32)\n",
    "    a = random_prime(m)\n",
    "    assert mul_inv(m, a) == inverse_mod(a, m)\n",
    "print(\"Ok, works as expected!\")"
   ]
  }
 ],
 "metadata": {
  "kernelspec": {
   "display_name": "SageMath 9.7",
   "language": "sage",
   "name": "sagemath"
  },
  "language_info": {
   "codemirror_mode": {
    "name": "ipython",
    "version": 3
   },
   "file_extension": ".py",
   "mimetype": "text/x-python",
   "name": "python",
   "nbconvert_exporter": "python",
   "pygments_lexer": "ipython3",
   "version": "3.10.5"
  }
 },
 "nbformat": 4,
 "nbformat_minor": 5
}
