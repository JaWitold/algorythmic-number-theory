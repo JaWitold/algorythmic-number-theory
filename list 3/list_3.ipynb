{
 "cells": [
  {
   "cell_type": "markdown",
   "id": "91c17ba6",
   "metadata": {},
   "source": [
    "# Algorithmic Number Theory - List 3\n",
    "#### Witold Karaś (254622)"
   ]
  },
  {
   "cell_type": "markdown",
   "id": "00a543c0",
   "metadata": {},
   "source": [
    "## Task 1: Tonelli-Shanks algorithm"
   ]
  },
  {
   "cell_type": "code",
   "execution_count": 112,
   "id": "64b37347",
   "metadata": {},
   "outputs": [],
   "source": [
    "def tonelli_shanks(a: int, p: int):\n",
    "    # Make sure input is correct\n",
    "    assert p > 2, f\"prime number p = {p} must be greater than 2\"\n",
    "    assert pow(a, (p - 1) // 2, p) == 1, f\"no roots for {n} mod {p}\"\n",
    "    \n",
    "    # Find odd s and positive e such that p - 1 = s * 2 ^ e\n",
    "    s, e = p - 1, 0\n",
    "    while s % 2 == 0:\n",
    "        s, e = s // 2, e + 1\n",
    "\n",
    "    # Find number n such that n ^ (p - 1) // 2 ≡ -1 (mod p)\n",
    "    for n in range(2, p):\n",
    "        if pow(n, (p - 1) // 2, p) == -1 % p:\n",
    "            break\n",
    "            \n",
    "    # Set variables:\n",
    "    # First guess at the square root\n",
    "    x = pow(a, (s + 1) // 2, p)\n",
    "    # First guess at the fudge factor\n",
    "    b = pow(a, s, p)\n",
    "    # Powers of g will update both x and b\n",
    "    g = pow(n, s, p)\n",
    "    # Exponent will decrease with each loop of the algorithm\n",
    "    r = e\n",
    "    \n",
    "    def find_m():\n",
    "        t = pow(b, 2, p)\n",
    "        for m in range(1, r):\n",
    "            if (t - 1) % p == 0:\n",
    "                break\n",
    "            t = pow(t, 2, p)\n",
    "        return m\n",
    "    \n",
    "    # Note: x ^ 2 ≡ b * a (mod p)\n",
    "    while (b - 1) % p != 0:\n",
    "        m = find_m()\n",
    "\n",
    "        x = (x * pow(g, 2 ** (r - m - 1))) % p\n",
    "        g = pow(g, 2 ** (r - m), p)\n",
    "        b = (b * g) % p\n",
    "\n",
    "        r = m\n",
    "    return x"
   ]
  },
  {
   "cell_type": "code",
   "execution_count": 114,
   "id": "d85faf7a",
   "metadata": {},
   "outputs": [
    {
     "name": "stdout",
     "output_type": "stream",
     "text": [
      "Ok, all asserts passed\n"
     ]
    }
   ],
   "source": [
    "for _ in range(100):\n",
    "    p = random_prime(2**128)\n",
    "    n = 0\n",
    "    while n < 2:\n",
    "        n = randint(2, p - 1)\n",
    "    res = tonelli_shanks(pow(n, 2, p), p)\n",
    "    assert res == n or p - res == n\n",
    "print(\"Ok, all asserts passed\")"
   ]
  }
 ],
 "metadata": {
  "kernelspec": {
   "display_name": "SageMath 9.7",
   "language": "sage",
   "name": "sagemath"
  },
  "language_info": {
   "codemirror_mode": {
    "name": "ipython",
    "version": 3
   },
   "file_extension": ".py",
   "mimetype": "text/x-python",
   "name": "python",
   "nbconvert_exporter": "python",
   "pygments_lexer": "ipython3",
   "version": "3.10.5"
  }
 },
 "nbformat": 4,
 "nbformat_minor": 5
}
