{
 "cells": [
  {
   "cell_type": "markdown",
   "id": "a1287c72",
   "metadata": {},
   "source": [
    "# Algorithmic Number Theory - List 1 - Task 1\n",
    "##### author: Witold Karaś (254622)"
   ]
  },
  {
   "cell_type": "markdown",
   "id": "6389113e",
   "metadata": {},
   "source": [
    "## RSA key generation"
   ]
  },
  {
   "cell_type": "code",
   "execution_count": 1,
   "id": "b2903766",
   "metadata": {},
   "outputs": [],
   "source": [
    "def keys_gen(p: int, q: int) -> ((int, int), (int, int, int)):\n",
    "    assert(is_prime(p))\n",
    "    assert(is_prime(q))\n",
    "    n = p * q\n",
    "    phi_n = (p - 1) * (q - 1)\n",
    "    e = random_prime(p)\n",
    "    d = inverse_mod(e, phi_n)\n",
    "    return (n, e), (p, q, d)"
   ]
  },
  {
   "cell_type": "markdown",
   "id": "4dae1931",
   "metadata": {},
   "source": [
    "## Encryption"
   ]
  },
  {
   "cell_type": "code",
   "execution_count": 2,
   "id": "9d196672",
   "metadata": {},
   "outputs": [],
   "source": [
    "def encrypt(message: int, public_key: int) -> int:\n",
    "    n, e = public_key\n",
    "    return pow(message, e, n)"
   ]
  },
  {
   "cell_type": "markdown",
   "id": "a520e156",
   "metadata": {},
   "source": [
    "## Decryption\n",
    "\n",
    "Given 2 equival functions. The first one uses explicit CRT implementation for 2 congruences. The second one uses sage math built in CRT function."
   ]
  },
  {
   "cell_type": "code",
   "execution_count": 3,
   "id": "5c3b8711",
   "metadata": {},
   "outputs": [],
   "source": [
    "def decrypt(ciphertext: int, secret_key: (int, int, int)) -> int:\n",
    "    p, q, d = secret_key\n",
    "    n = p * q\n",
    "\n",
    "    dp = d % (p - 1)\n",
    "    dq = d % (q - 1)\n",
    "    y_p = pow(ciphertext, dp, p)\n",
    "    y_q = pow(ciphertext, dq, q)\n",
    "    \n",
    "    q_inv = inverse_mod(q, p)\n",
    "    return (y_q + (y_p - y_q) * q * q_inv) % (p * q)"
   ]
  },
  {
   "cell_type": "code",
   "execution_count": 4,
   "id": "0ada4a68",
   "metadata": {},
   "outputs": [],
   "source": [
    "def decrypt(ciphertext: int, secret_key: (int, int, int)) -> int:\n",
    "    p, q, d = secret_key\n",
    "    n = p * q\n",
    "\n",
    "    dp = d % (p - 1)\n",
    "    dq = d % (q - 1)\n",
    "    y_p = pow(ciphertext, dp, p)\n",
    "    y_q = pow(ciphertext, dq, q)\n",
    "    \n",
    "    return CRT([y_p, y_q], [p, q])"
   ]
  },
  {
   "cell_type": "markdown",
   "id": "e6d7dc22",
   "metadata": {},
   "source": [
    "## RSA usage\n",
    "\n",
    "The first few steps are simply preparing the keys"
   ]
  },
  {
   "cell_type": "code",
   "execution_count": 5,
   "id": "65349502",
   "metadata": {},
   "outputs": [],
   "source": [
    "# generate two prime numbers p and q, it works for 2**2048 but it is much slower to generate those numbers\n",
    "p = random_prime(2**1024)\n",
    "q = random_prime(2**1024)"
   ]
  },
  {
   "cell_type": "code",
   "execution_count": 6,
   "id": "1985306c",
   "metadata": {},
   "outputs": [],
   "source": [
    "# ensure they are primes\n",
    "assert(is_prime(p) & is_prime(q))"
   ]
  },
  {
   "cell_type": "code",
   "execution_count": 7,
   "id": "c674c2c8",
   "metadata": {},
   "outputs": [],
   "source": [
    "# generate keys using prepared function\n",
    "(public, private) = keys_gen(p, q)"
   ]
  },
  {
   "cell_type": "markdown",
   "id": "72a9b7d9",
   "metadata": {},
   "source": [
    "## Verify that RSA really works"
   ]
  },
  {
   "cell_type": "code",
   "execution_count": 8,
   "id": "372d2804",
   "metadata": {},
   "outputs": [
    {
     "data": {
      "text/plain": [
       "123"
      ]
     },
     "execution_count": 8,
     "metadata": {},
     "output_type": "execute_result"
    }
   ],
   "source": [
    "message = 123\n",
    "decrypt(encrypt(message, public), private)"
   ]
  },
  {
   "cell_type": "code",
   "execution_count": 9,
   "id": "45e80278",
   "metadata": {},
   "outputs": [
    {
     "name": "stdout",
     "output_type": "stream",
     "text": [
      "Ok, all messages encrypted and decrypted correctly.\n"
     ]
    }
   ],
   "source": [
    "for _ in range(1000):\n",
    "    message = randint(0, public[0] - 1)  \n",
    "    assert(message == decrypt(encrypt(message, public), private))\n",
    "print(\"Ok, all messages encrypted and decrypted correctly.\")"
   ]
  }
 ],
 "metadata": {
  "kernelspec": {
   "display_name": "SageMath 9.7",
   "language": "sage",
   "name": "sagemath"
  },
  "language_info": {
   "codemirror_mode": {
    "name": "ipython",
    "version": 3
   },
   "file_extension": ".py",
   "mimetype": "text/x-python",
   "name": "python",
   "nbconvert_exporter": "python",
   "pygments_lexer": "ipython3",
   "version": "3.10.5"
  }
 },
 "nbformat": 4,
 "nbformat_minor": 5
}
